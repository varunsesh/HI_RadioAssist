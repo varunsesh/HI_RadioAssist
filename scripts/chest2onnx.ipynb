{
 "cells": [
  {
   "cell_type": "code",
   "execution_count": 2,
   "metadata": {},
   "outputs": [],
   "source": [
    "#!git clone https://github.com/Bertinus/ChestXrays"
   ]
  },
  {
   "cell_type": "code",
   "execution_count": 3,
   "metadata": {},
   "outputs": [],
   "source": [
    "import sys\n",
    "sys.path.append('ChestXrays/')\n",
    "\n",
    "from dataset import MyDataLoader\n",
    "import torch\n",
    "import torchvision\n",
    "import os\n",
    "from model import myDenseNet, addDropout\n",
    "import numpy as np\n",
    "from sklearn.metrics import roc_auc_score, roc_curve\n",
    "from sklearn.model_selection import ShuffleSplit\n",
    "import matplotlib.pyplot as plt\n",
    "import pandas as pd\n",
    "\n",
    "\n"
   ]
  },
  {
   "cell_type": "code",
   "execution_count": 4,
   "metadata": {},
   "outputs": [
    {
     "name": "stderr",
     "output_type": "stream",
     "text": [
      "/usr/local/lib/python2.7/site-packages/torchvision/models/densenet.py:212: UserWarning: nn.init.kaiming_normal is now deprecated in favor of nn.init.kaiming_normal_.\n",
      "  nn.init.kaiming_normal(m.weight.data)\n"
     ]
    }
   ],
   "source": [
    "####################################################################################################################\n",
    "# Parameters\n",
    "####################################################################################################################\n",
    "\n",
    "pathologies = [\"Atelectasis\", \"Consolidation\", \"Infiltration\",\n",
    "               \"Pneumothorax\", \"Edema\", \"Emphysema\", \"Fibrosis\", \"Effusion\", \"Pneumonia\",\n",
    "               \"Pleural_Thickening\", \"Cardiomegaly\", \"Nodule\", \"Mass\", \"Hernia\"]\n",
    "\n",
    "original_paper_results = [\"0.8094\", \"0.7901\", \"0.7345\",\n",
    "                          \"0.8887\", \"0.8878\", \"0.9371\", \"0.8047\", \"0.8638\", \"0.7680\",\n",
    "                          \"0.8062\", \"0.9248\", \"0.7802\", \"0.8676\", \"0.9164\"]\n",
    "\"\"\"\n",
    "# Local\n",
    "datadir = \"/home/user1/Documents/Data/ChestXray/images\"\n",
    "val_csvpath = \"/home/user1/Documents/Data/ChestXray/DataVal.csv\"\n",
    "saved_model_path = \"Models/model_178800.pth\"\n",
    "saveplotdir = \"/home/user1/PycharmProjects/ChestXrays/Plots/model_test\"\n",
    "\n",
    "\"\"\"\n",
    "# Server\n",
    "datadir = \"/data/lisa/data/ChestXray-NIHCC-2/images\"\n",
    "#val_csvpath = \"/u/bertinpa/Documents/ChestXrays/Data/DataVal.csv\"\n",
    "saved_model_path = \"ChestXrays/Models/model_178800.pth\"  # \"/data/milatmp1/bertinpa/Logs/model_3/model_37200.pth\"\n",
    "#saveplotdir = \"/u/bertinpa/Documents/ChestXrays/Plots/model_37200\"\n",
    "\n",
    "inputsize = [224, 224]  # Image Size fed to the network\n",
    "\n",
    "densenet = myDenseNet()\n",
    "densenet = addDropout(densenet, p=0)\n",
    "densenet.load_state_dict(torch.load(saved_model_path, map_location='cpu'))\n"
   ]
  },
  {
   "cell_type": "code",
   "execution_count": null,
   "metadata": {},
   "outputs": [],
   "source": []
  },
  {
   "cell_type": "code",
   "execution_count": null,
   "metadata": {},
   "outputs": [],
   "source": []
  },
  {
   "cell_type": "code",
   "execution_count": 5,
   "metadata": {},
   "outputs": [],
   "source": [
    "model = densenet\n",
    "dummy_input = torch.autograd.Variable(torch.FloatTensor(np.zeros([1, 3, 224, 224])))\n",
    "\n",
    "torch.onnx.export(model, dummy_input, 'chest.onnx')"
   ]
  },
  {
   "cell_type": "code",
   "execution_count": null,
   "metadata": {},
   "outputs": [],
   "source": []
  },
  {
   "cell_type": "code",
   "execution_count": null,
   "metadata": {},
   "outputs": [],
   "source": []
  },
  {
   "cell_type": "code",
   "execution_count": null,
   "metadata": {},
   "outputs": [],
   "source": []
  },
  {
   "cell_type": "code",
   "execution_count": null,
   "metadata": {},
   "outputs": [],
   "source": []
  },
  {
   "cell_type": "code",
   "execution_count": null,
   "metadata": {},
   "outputs": [],
   "source": []
  },
  {
   "cell_type": "code",
   "execution_count": null,
   "metadata": {},
   "outputs": [],
   "source": []
  }
 ],
 "metadata": {
  "kernelspec": {
   "display_name": "Python 2",
   "language": "python",
   "name": "python2"
  },
  "language_info": {
   "codemirror_mode": {
    "name": "ipython",
    "version": 2
   },
   "file_extension": ".py",
   "mimetype": "text/x-python",
   "name": "python",
   "nbconvert_exporter": "python",
   "pygments_lexer": "ipython2",
   "version": "2.7.15"
  }
 },
 "nbformat": 4,
 "nbformat_minor": 2
}
