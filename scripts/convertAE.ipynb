{
 "cells": [
  {
   "cell_type": "code",
   "execution_count": 1,
   "metadata": {},
   "outputs": [],
   "source": [
    "%load_ext autoreload\n",
    "%autoreload 2\n",
    "%matplotlib inline"
   ]
  },
  {
   "cell_type": "code",
   "execution_count": null,
   "metadata": {},
   "outputs": [],
   "source": [
    "import webdl_utils"
   ]
  },
  {
   "cell_type": "code",
   "execution_count": 6,
   "metadata": {},
   "outputs": [],
   "source": [
    "import torch\n",
    "\n",
    "enc = torch.load(\"../ChestXrays/ALI/model/AE_0.00001_1000_512/AE_0.00001_1000_512_GenZ_It_1600000.pth\", map_location=torch.device('cpu'))\n",
    "dec = torch.load(\"../ChestXrays/ALI/model/AE_0.00001_1000_512/AE_0.00001_1000_512_GenX_It_1600000.pth\", map_location=torch.device('cpu'))\n"
   ]
  },
  {
   "cell_type": "code",
   "execution_count": 10,
   "metadata": {},
   "outputs": [],
   "source": [
    "import sys\n",
    "sys.path.append('../ChestXrays/ALI')\n",
    "from ALImodel import *\n",
    "from ALIloader import *"
   ]
  },
  {
   "cell_type": "code",
   "execution_count": null,
   "metadata": {},
   "outputs": [],
   "source": []
  },
  {
   "cell_type": "code",
   "execution_count": 17,
   "metadata": {},
   "outputs": [],
   "source": [
    "LS = 512\n",
    "ColorsNumber = 1 #Number of color (always 1 for x-ray)\n",
    "inputsize = 64\n",
    "ExpDir = \"/tmp/\"\n",
    "cp = -1 #Checkpoint to load (-2 for latest one, -1 for last epoch)\n",
    "\n",
    "DisX,DisZ,DisXZ,GenZ,GenX,CP,DiscriminatorLoss,tAUCs = GenModel(\n",
    "    inputsize,LS,cp,ExpDir,\"test\",ColorsNumber=ColorsNumber)"
   ]
  },
  {
   "cell_type": "code",
   "execution_count": 20,
   "metadata": {},
   "outputs": [],
   "source": [
    "GenZ.load_state_dict(enc);\n",
    "GenX.load_state_dict(dec);"
   ]
  },
  {
   "cell_type": "code",
   "execution_count": null,
   "metadata": {},
   "outputs": [],
   "source": []
  },
  {
   "cell_type": "code",
   "execution_count": 27,
   "metadata": {
    "scrolled": false
   },
   "outputs": [],
   "source": [
    "dummy_input = torch.autograd.Variable(torch.FloatTensor(torch.zeros([1, 1, 64, 64])))\n",
    "GenZ.eval()\n",
    "torch.onnx.export(GenZ, dummy_input, 'enc_chest.onnx')\n",
    "dummy_input = torch.autograd.Variable(torch.FloatTensor(torch.zeros([1, 512, 1, 1])))\n",
    "GenX.eval()\n",
    "torch.onnx.export(GenX, dummy_input, 'dec_chest.onnx')"
   ]
  },
  {
   "cell_type": "code",
   "execution_count": null,
   "metadata": {},
   "outputs": [],
   "source": []
  },
  {
   "cell_type": "code",
   "execution_count": 30,
   "metadata": {},
   "outputs": [
    {
     "name": "stdout",
     "output_type": "stream",
     "text": [
      "onnx 1.5.0\n",
      "onnx-tf 1.3.0\n",
      "tensorflow 1.14.0\n"
     ]
    }
   ],
   "source": [
    "webdl_utils.convert_onnx2tf_pb(onnx_file=\"enc_chest.onnx\", pb_file=\"enc_chest.pb\")\n",
    "webdl_utils.convert_onnx2tf_pb(onnx_file=\"dec_chest.onnx\", pb_file=\"dec_chest.pb\")"
   ]
  },
  {
   "cell_type": "code",
   "execution_count": 34,
   "metadata": {},
   "outputs": [
    {
     "data": {
      "text/plain": [
       "Encoder(\n",
       "  (main): Sequential(\n",
       "    (Conv_0): Conv2d(1, 64, kernel_size=(2, 2), stride=(1, 1), bias=False)\n",
       "    (LRelu_0): LeakyReLU(negative_slope=0.1, inplace=True)\n",
       "    (BN_0): BatchNorm2d(64, eps=1e-05, momentum=0.1, affine=True, track_running_stats=True)\n",
       "    (Conv_1): Conv2d(64, 128, kernel_size=(7, 7), stride=(2, 2), bias=False)\n",
       "    (LRelu_1): LeakyReLU(negative_slope=0.1, inplace=True)\n",
       "    (BN_1): BatchNorm2d(128, eps=1e-05, momentum=0.1, affine=True, track_running_stats=True)\n",
       "    (Conv_2): Conv2d(128, 256, kernel_size=(5, 5), stride=(2, 2), bias=False)\n",
       "    (LRelu_2): LeakyReLU(negative_slope=0.1, inplace=True)\n",
       "    (BN_2): BatchNorm2d(256, eps=1e-05, momentum=0.1, affine=True, track_running_stats=True)\n",
       "    (Conv_3): Conv2d(256, 512, kernel_size=(7, 7), stride=(2, 2), bias=False)\n",
       "    (LRelu_3): LeakyReLU(negative_slope=0.1, inplace=True)\n",
       "    (BN_3): BatchNorm2d(512, eps=1e-05, momentum=0.1, affine=True, track_running_stats=True)\n",
       "    (Conv_4): Conv2d(512, 512, kernel_size=(4, 4), stride=(1, 1), bias=False)\n",
       "    (LRelu_4): LeakyReLU(negative_slope=0.1, inplace=True)\n",
       "    (BN_4): BatchNorm2d(512, eps=1e-05, momentum=0.1, affine=True, track_running_stats=True)\n",
       "    (Conv_5): Conv2d(512, 512, kernel_size=(1, 1), stride=(1, 1), bias=False)\n",
       "  )\n",
       ")"
      ]
     },
     "execution_count": 34,
     "metadata": {},
     "output_type": "execute_result"
    }
   ],
   "source": [
    "GenZ"
   ]
  },
  {
   "cell_type": "code",
   "execution_count": 48,
   "metadata": {},
   "outputs": [],
   "source": [
    "!rm -rf enc-chest-savedmodel\n",
    "!rm -rf dec-chest-savedmodel"
   ]
  },
  {
   "cell_type": "code",
   "execution_count": 49,
   "metadata": {},
   "outputs": [
    {
     "name": "stdout",
     "output_type": "stream",
     "text": [
      "tensorflow 1.14.0\n",
      "Possible inputs: [('input.1', 'Placeholder')]\n",
      "Selecting first element in list: input.1:0\n",
      "Possible outputs: [('transpose_17', 'Transpose')]\n",
      "Selecting first element in list: transpose_17:0\n"
     ]
    }
   ],
   "source": [
    "b = webdl_utils.convert_tf_pb2savedmodel(pb_file=\"enc_chest.pb\", savedmodel_folder=\"enc-chest-savedmodel\")\n"
   ]
  },
  {
   "cell_type": "code",
   "execution_count": null,
   "metadata": {},
   "outputs": [],
   "source": []
  },
  {
   "cell_type": "code",
   "execution_count": 51,
   "metadata": {},
   "outputs": [
    {
     "name": "stdout",
     "output_type": "stream",
     "text": [
      "tensorflow 1.14.0\n",
      "Possible inputs: [('0', 'Placeholder')]\n",
      "Selecting first element in list: 0:0\n",
      "Possible outputs: [('Tanh', 'Tanh')]\n",
      "Selecting first element in list: Tanh:0\n"
     ]
    }
   ],
   "source": [
    "b = webdl_utils.convert_tf_pb2savedmodel(pb_file=\"dec_chest.pb\", savedmodel_folder=\"dec-chest-savedmodel\")"
   ]
  },
  {
   "cell_type": "code",
   "execution_count": null,
   "metadata": {},
   "outputs": [],
   "source": []
  },
  {
   "cell_type": "code",
   "execution_count": 53,
   "metadata": {},
   "outputs": [
    {
     "name": "stdout",
     "output_type": "stream",
     "text": [
      "2019-11-16 17:35:22.376706: I tensorflow/core/platform/cpu_feature_guard.cc:142] Your CPU supports instructions that this TensorFlow binary was not compiled to use: AVX2 FMA\n",
      "2019-11-16 17:35:23.077526: I tensorflow/core/grappler/devices.cc:60] Number of eligible GPUs (core count >= 8, compute capability >= 0.0): 0 (Note: TensorFlow was not compiled with CUDA support)\n",
      "2019-11-16 17:35:23.077630: I tensorflow/core/grappler/clusters/single_machine.cc:359] Starting new session\n",
      "2019-11-16 17:35:23.206378: I tensorflow/core/grappler/optimizers/meta_optimizer.cc:716] Optimization results for grappler item: graph_to_optimize\n",
      "2019-11-16 17:35:23.206411: I tensorflow/core/grappler/optimizers/meta_optimizer.cc:718]   function_optimizer: function_optimizer did nothing. time = 0.002ms.\n",
      "2019-11-16 17:35:23.206419: I tensorflow/core/grappler/optimizers/meta_optimizer.cc:718]   function_optimizer: function_optimizer did nothing. time = 0.001ms.\n",
      "2019-11-16 17:35:26.072328: I tensorflow/core/grappler/optimizers/meta_optimizer.cc:716] Optimization results for grappler item: graph_to_optimize\n",
      "2019-11-16 17:35:26.072373: I tensorflow/core/grappler/optimizers/meta_optimizer.cc:718]   debug_stripper: debug_stripper did nothing. time = 0.023ms.\n",
      "2019-11-16 17:35:26.072382: I tensorflow/core/grappler/optimizers/meta_optimizer.cc:718]   model_pruner: Graph size after: 190 nodes (-6), 194 edges (-6), time = 60.926ms.\n",
      "2019-11-16 17:35:26.072388: I tensorflow/core/grappler/optimizers/meta_optimizer.cc:718]   constant folding: Graph size after: 86 nodes (-104), 85 edges (-109), time = 510.005ms.\n",
      "2019-11-16 17:35:26.072394: I tensorflow/core/grappler/optimizers/meta_optimizer.cc:718]   arithmetic_optimizer: Graph size after: 66 nodes (-20), 85 edges (0), time = 106.751ms.\n",
      "2019-11-16 17:35:26.072399: I tensorflow/core/grappler/optimizers/meta_optimizer.cc:718]   dependency_optimizer: Graph size after: 52 nodes (-14), 61 edges (-24), time = 15.927ms.\n",
      "2019-11-16 17:35:26.072404: I tensorflow/core/grappler/optimizers/meta_optimizer.cc:718]   model_pruner: Graph size after: 52 nodes (0), 61 edges (0), time = 14.114ms.\n",
      "2019-11-16 17:35:26.072442: I tensorflow/core/grappler/optimizers/meta_optimizer.cc:718]   remapper: Graph size after: 52 nodes (0), 61 edges (0), time = 46.489ms.\n",
      "2019-11-16 17:35:26.072448: I tensorflow/core/grappler/optimizers/meta_optimizer.cc:718]   constant folding: Graph size after: 52 nodes (0), 61 edges (0), time = 154.421ms.\n",
      "2019-11-16 17:35:26.072455: I tensorflow/core/grappler/optimizers/meta_optimizer.cc:718]   arithmetic_optimizer: Graph size after: 52 nodes (0), 61 edges (0), time = 102.987ms.\n",
      "2019-11-16 17:35:26.072459: I tensorflow/core/grappler/optimizers/meta_optimizer.cc:718]   dependency_optimizer: Graph size after: 52 nodes (0), 61 edges (0), time = 14.721ms.\n",
      "2019-11-16 17:35:26.072463: I tensorflow/core/grappler/optimizers/meta_optimizer.cc:718]   debug_stripper: debug_stripper did nothing. time = 3.741ms.\n",
      "2019-11-16 17:35:26.072467: I tensorflow/core/grappler/optimizers/meta_optimizer.cc:718]   model_pruner: Graph size after: 52 nodes (0), 61 edges (0), time = 11.046ms.\n",
      "2019-11-16 17:35:26.072666: I tensorflow/core/grappler/optimizers/meta_optimizer.cc:718]   constant folding: Graph size after: 52 nodes (0), 61 edges (0), time = 163.767ms.\n",
      "2019-11-16 17:35:26.072672: I tensorflow/core/grappler/optimizers/meta_optimizer.cc:718]   arithmetic_optimizer: Graph size after: 52 nodes (0), 61 edges (0), time = 121.125ms.\n",
      "2019-11-16 17:35:26.072676: I tensorflow/core/grappler/optimizers/meta_optimizer.cc:718]   dependency_optimizer: Graph size after: 52 nodes (0), 61 edges (0), time = 13.785ms.\n",
      "2019-11-16 17:35:26.072679: I tensorflow/core/grappler/optimizers/meta_optimizer.cc:718]   model_pruner: Graph size after: 52 nodes (0), 61 edges (0), time = 13.328ms.\n",
      "2019-11-16 17:35:26.072684: I tensorflow/core/grappler/optimizers/meta_optimizer.cc:718]   remapper: Graph size after: 52 nodes (0), 61 edges (0), time = 29.706ms.\n",
      "2019-11-16 17:35:26.072687: I tensorflow/core/grappler/optimizers/meta_optimizer.cc:718]   constant folding: Graph size after: 52 nodes (0), 61 edges (0), time = 143.607ms.\n",
      "2019-11-16 17:35:26.072831: I tensorflow/core/grappler/optimizers/meta_optimizer.cc:718]   arithmetic_optimizer: Graph size after: 52 nodes (0), 61 edges (0), time = 131.466ms.\n",
      "2019-11-16 17:35:26.072837: I tensorflow/core/grappler/optimizers/meta_optimizer.cc:718]   dependency_optimizer: Graph size after: 52 nodes (0), 61 edges (0), time = 14.289ms.\n",
      "Writing weight file enc-chest-savedmodel-tfjs/model.json...\n"
     ]
    }
   ],
   "source": [
    "!tensorflowjs_converter \\\n",
    "    --input_format=tf_saved_model \\\n",
    "    enc-chest-savedmodel \\\n",
    "    enc-chest-savedmodel-tfjs"
   ]
  },
  {
   "cell_type": "code",
   "execution_count": 54,
   "metadata": {},
   "outputs": [
    {
     "name": "stdout",
     "output_type": "stream",
     "text": [
      "2019-11-16 17:35:34.232660: I tensorflow/core/platform/cpu_feature_guard.cc:142] Your CPU supports instructions that this TensorFlow binary was not compiled to use: AVX2 FMA\n",
      "2019-11-16 17:35:34.520448: I tensorflow/core/grappler/devices.cc:60] Number of eligible GPUs (core count >= 8, compute capability >= 0.0): 0 (Note: TensorFlow was not compiled with CUDA support)\n",
      "2019-11-16 17:35:34.520548: I tensorflow/core/grappler/clusters/single_machine.cc:359] Starting new session\n",
      "2019-11-16 17:35:34.547878: I tensorflow/core/grappler/optimizers/meta_optimizer.cc:716] Optimization results for grappler item: graph_to_optimize\n",
      "2019-11-16 17:35:34.547991: I tensorflow/core/grappler/optimizers/meta_optimizer.cc:718]   function_optimizer: function_optimizer did nothing. time = 0.003ms.\n",
      "2019-11-16 17:35:34.548004: I tensorflow/core/grappler/optimizers/meta_optimizer.cc:718]   function_optimizer: function_optimizer did nothing. time = 0.001ms.\n",
      "2019-11-16 17:35:35.414382: I tensorflow/core/grappler/optimizers/meta_optimizer.cc:716] Optimization results for grappler item: graph_to_optimize\n",
      "2019-11-16 17:35:35.414413: I tensorflow/core/grappler/optimizers/meta_optimizer.cc:718]   debug_stripper: debug_stripper did nothing. time = 0.019ms.\n",
      "2019-11-16 17:35:35.414418: I tensorflow/core/grappler/optimizers/meta_optimizer.cc:718]   model_pruner: Graph size after: 203 nodes (-6), 207 edges (-6), time = 15.567ms.\n",
      "2019-11-16 17:35:35.414423: I tensorflow/core/grappler/optimizers/meta_optimizer.cc:718]   constant folding: Graph size after: 99 nodes (-104), 98 edges (-109), time = 140.686ms.\n",
      "2019-11-16 17:35:35.414427: I tensorflow/core/grappler/optimizers/meta_optimizer.cc:718]   arithmetic_optimizer: Graph size after: 73 nodes (-26), 98 edges (0), time = 29.639ms.\n",
      "2019-11-16 17:35:35.414430: I tensorflow/core/grappler/optimizers/meta_optimizer.cc:718]   dependency_optimizer: Graph size after: 59 nodes (-14), 68 edges (-30), time = 3.891ms.\n",
      "2019-11-16 17:35:35.414434: I tensorflow/core/grappler/optimizers/meta_optimizer.cc:718]   model_pruner: Graph size after: 59 nodes (0), 68 edges (0), time = 3.079ms.\n",
      "2019-11-16 17:35:35.414506: I tensorflow/core/grappler/optimizers/meta_optimizer.cc:718]   remapper: Graph size after: 59 nodes (0), 68 edges (0), time = 5.567ms.\n",
      "2019-11-16 17:35:35.414512: I tensorflow/core/grappler/optimizers/meta_optimizer.cc:718]   constant folding: Graph size after: 59 nodes (0), 68 edges (0), time = 34.905ms.\n",
      "2019-11-16 17:35:35.414516: I tensorflow/core/grappler/optimizers/meta_optimizer.cc:718]   arithmetic_optimizer: Graph size after: 59 nodes (0), 68 edges (0), time = 28.972ms.\n",
      "2019-11-16 17:35:35.414520: I tensorflow/core/grappler/optimizers/meta_optimizer.cc:718]   dependency_optimizer: Graph size after: 59 nodes (0), 68 edges (0), time = 3.744ms.\n",
      "2019-11-16 17:35:35.414524: I tensorflow/core/grappler/optimizers/meta_optimizer.cc:718]   debug_stripper: debug_stripper did nothing. time = 0.791ms.\n",
      "2019-11-16 17:35:35.414528: I tensorflow/core/grappler/optimizers/meta_optimizer.cc:718]   model_pruner: Graph size after: 59 nodes (0), 68 edges (0), time = 2.436ms.\n",
      "2019-11-16 17:35:35.414713: I tensorflow/core/grappler/optimizers/meta_optimizer.cc:718]   constant folding: Graph size after: 59 nodes (0), 68 edges (0), time = 38.493ms.\n",
      "2019-11-16 17:35:35.414718: I tensorflow/core/grappler/optimizers/meta_optimizer.cc:718]   arithmetic_optimizer: Graph size after: 59 nodes (0), 68 edges (0), time = 32.23ms.\n",
      "2019-11-16 17:35:35.414722: I tensorflow/core/grappler/optimizers/meta_optimizer.cc:718]   dependency_optimizer: Graph size after: 59 nodes (0), 68 edges (0), time = 4.705ms.\n",
      "2019-11-16 17:35:35.414726: I tensorflow/core/grappler/optimizers/meta_optimizer.cc:718]   model_pruner: Graph size after: 59 nodes (0), 68 edges (0), time = 4.176ms.\n",
      "2019-11-16 17:35:35.414730: I tensorflow/core/grappler/optimizers/meta_optimizer.cc:718]   remapper: Graph size after: 59 nodes (0), 68 edges (0), time = 8.152ms.\n",
      "2019-11-16 17:35:35.414734: I tensorflow/core/grappler/optimizers/meta_optimizer.cc:718]   constant folding: Graph size after: 59 nodes (0), 68 edges (0), time = 29.776ms.\n",
      "2019-11-16 17:35:35.414880: I tensorflow/core/grappler/optimizers/meta_optimizer.cc:718]   arithmetic_optimizer: Graph size after: 59 nodes (0), 68 edges (0), time = 30.275ms.\n",
      "2019-11-16 17:35:35.414886: I tensorflow/core/grappler/optimizers/meta_optimizer.cc:718]   dependency_optimizer: Graph size after: 59 nodes (0), 68 edges (0), time = 3.371ms.\n",
      "Writing weight file dec-chest-savedmodel-tfjs/model.json...\n"
     ]
    }
   ],
   "source": [
    "!tensorflowjs_converter \\\n",
    "    --input_format=tf_saved_model \\\n",
    "    dec-chest-savedmodel \\\n",
    "    dec-chest-savedmodel-tfjs"
   ]
  },
  {
   "cell_type": "code",
   "execution_count": null,
   "metadata": {},
   "outputs": [],
   "source": []
  },
  {
   "cell_type": "code",
   "execution_count": null,
   "metadata": {},
   "outputs": [],
   "source": []
  },
  {
   "cell_type": "code",
   "execution_count": null,
   "metadata": {},
   "outputs": [],
   "source": []
  },
  {
   "cell_type": "code",
   "execution_count": null,
   "metadata": {},
   "outputs": [],
   "source": []
  },
  {
   "cell_type": "code",
   "execution_count": null,
   "metadata": {},
   "outputs": [],
   "source": []
  },
  {
   "cell_type": "code",
   "execution_count": null,
   "metadata": {},
   "outputs": [],
   "source": []
  },
  {
   "cell_type": "code",
   "execution_count": null,
   "metadata": {},
   "outputs": [],
   "source": []
  }
 ],
 "metadata": {
  "kernelspec": {
   "display_name": "Python 3",
   "language": "python",
   "name": "python3"
  },
  "language_info": {
   "codemirror_mode": {
    "name": "ipython",
    "version": 3
   },
   "file_extension": ".py",
   "mimetype": "text/x-python",
   "name": "python",
   "nbconvert_exporter": "python",
   "pygments_lexer": "ipython3",
   "version": "3.7.3"
  }
 },
 "nbformat": 4,
 "nbformat_minor": 2
}
