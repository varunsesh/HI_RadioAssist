{
 "cells": [
  {
   "cell_type": "code",
   "execution_count": 1,
   "metadata": {},
   "outputs": [],
   "source": [
    "%load_ext autoreload\n",
    "%autoreload 2\n",
    "%matplotlib inline"
   ]
  },
  {
   "cell_type": "code",
   "execution_count": 11,
   "metadata": {},
   "outputs": [],
   "source": [
    "import sys\n",
    "sys.path.append('../ChestXrays/')\n",
    "from model import myDenseNet, addDropout\n",
    "import torch\n",
    "model = myDenseNet()\n",
    "model = addDropout(model, p=0)\n",
    "saved_model_path = \"../ChestXrays/Models/model_72800.pth\"\n",
    "model.load_state_dict(torch.load(saved_model_path, map_location='cpu'))"
   ]
  },
  {
   "cell_type": "code",
   "execution_count": null,
   "metadata": {},
   "outputs": [],
   "source": []
  },
  {
   "cell_type": "code",
   "execution_count": null,
   "metadata": {},
   "outputs": [],
   "source": []
  },
  {
   "cell_type": "code",
   "execution_count": null,
   "metadata": {},
   "outputs": [],
   "source": []
  },
  {
   "cell_type": "code",
   "execution_count": 4,
   "metadata": {},
   "outputs": [
    {
     "data": {
      "text/plain": [
       "<All keys matched successfully>"
      ]
     },
     "execution_count": 4,
     "metadata": {},
     "output_type": "execute_result"
    }
   ],
   "source": [
    "import sys\n",
    "sys.path.append('../ChestXrays/')\n",
    "from model import myDenseNet, addDropout\n",
    "import torch\n",
    "model = myDenseNet()\n",
    "model = addDropout(model, p=0)\n",
    "saved_model_path = \"../ChestXrays/Models/model_72800.pth\"\n",
    "model.load_state_dict(torch.load(saved_model_path, map_location='cpu'))"
   ]
  },
  {
   "cell_type": "code",
   "execution_count": 12,
   "metadata": {},
   "outputs": [
    {
     "ename": "AttributeError",
     "evalue": "'collections.OrderedDict' object has no attribute 'eval'",
     "output_type": "error",
     "traceback": [
      "\u001b[0;31m---------------------------------------------------------------------------\u001b[0m",
      "\u001b[0;31mAttributeError\u001b[0m                            Traceback (most recent call last)",
      "\u001b[0;32m<ipython-input-12-dc4d3a042bd1>\u001b[0m in \u001b[0;36m<module>\u001b[0;34m\u001b[0m\n\u001b[1;32m      1\u001b[0m \u001b[0mdummy_input\u001b[0m \u001b[0;34m=\u001b[0m \u001b[0mtorch\u001b[0m\u001b[0;34m.\u001b[0m\u001b[0mautograd\u001b[0m\u001b[0;34m.\u001b[0m\u001b[0mVariable\u001b[0m\u001b[0;34m(\u001b[0m\u001b[0mtorch\u001b[0m\u001b[0;34m.\u001b[0m\u001b[0mFloatTensor\u001b[0m\u001b[0;34m(\u001b[0m\u001b[0mtorch\u001b[0m\u001b[0;34m.\u001b[0m\u001b[0mzeros\u001b[0m\u001b[0;34m(\u001b[0m\u001b[0;34m[\u001b[0m\u001b[0;36m1\u001b[0m\u001b[0;34m,\u001b[0m \u001b[0;36m3\u001b[0m\u001b[0;34m,\u001b[0m \u001b[0;36m224\u001b[0m\u001b[0;34m,\u001b[0m \u001b[0;36m224\u001b[0m\u001b[0;34m]\u001b[0m\u001b[0;34m)\u001b[0m\u001b[0;34m)\u001b[0m\u001b[0;34m)\u001b[0m\u001b[0;34m\u001b[0m\u001b[0;34m\u001b[0m\u001b[0m\n\u001b[0;32m----> 2\u001b[0;31m \u001b[0mmodel\u001b[0m\u001b[0;34m.\u001b[0m\u001b[0meval\u001b[0m\u001b[0;34m(\u001b[0m\u001b[0;34m)\u001b[0m\u001b[0;34m\u001b[0m\u001b[0;34m\u001b[0m\u001b[0m\n\u001b[0m\u001b[1;32m      3\u001b[0m \u001b[0mtorch\u001b[0m\u001b[0;34m.\u001b[0m\u001b[0monnx\u001b[0m\u001b[0;34m.\u001b[0m\u001b[0mexport\u001b[0m\u001b[0;34m(\u001b[0m\u001b[0mmodel\u001b[0m\u001b[0;34m,\u001b[0m \u001b[0mdummy_input\u001b[0m\u001b[0;34m,\u001b[0m \u001b[0;34m'chest.onnx'\u001b[0m\u001b[0;34m)\u001b[0m\u001b[0;34m\u001b[0m\u001b[0;34m\u001b[0m\u001b[0m\n",
      "\u001b[0;31mAttributeError\u001b[0m: 'collections.OrderedDict' object has no attribute 'eval'"
     ]
    }
   ],
   "source": [
    "dummy_input = torch.autograd.Variable(torch.FloatTensor(torch.zeros([1, 3, 224, 224])))\n",
    "model.eval()\n",
    "torch.onnx.export(model, dummy_input, 'chest.onnx')"
   ]
  },
  {
   "cell_type": "code",
   "execution_count": 1,
   "metadata": {},
   "outputs": [
    {
     "name": "stdout",
     "output_type": "stream",
     "text": [
      "onnx 1.5.0\n",
      "onnx-tf 1.3.0\n",
      "tensorflow 1.14.0\n"
     ]
    },
    {
     "name": "stderr",
     "output_type": "stream",
     "text": [
      "/Users/ieee8023/Library/Python/3.7/lib/python/site-packages/onnx_tf/common/__init__.py:87: UserWarning: onnx_tf.common.get_outputs_names is deprecated. It will be removed in future release. Use TensorflowGraph.get_outputs_names instead.\n",
      "  warnings.warn(message)\n",
      "WARNING: Logging before flag parsing goes to stderr.\n",
      "W0831 11:46:19.798339 140735788598144 deprecation_wrapper.py:119] From /Users/ieee8023/Library/Python/3.7/lib/python/site-packages/onnx_tf/handlers/backend/ceil.py:10: The name tf.ceil is deprecated. Please use tf.math.ceil instead.\n",
      "\n",
      "W0831 11:46:19.802238 140735788598144 deprecation_wrapper.py:119] From /Users/ieee8023/Library/Python/3.7/lib/python/site-packages/onnx_tf/handlers/backend/depth_to_space.py:12: The name tf.depth_to_space is deprecated. Please use tf.compat.v1.depth_to_space instead.\n",
      "\n",
      "W0831 11:46:19.804658 140735788598144 deprecation_wrapper.py:119] From /Users/ieee8023/Library/Python/3.7/lib/python/site-packages/onnx_tf/handlers/backend/erf.py:9: The name tf.erf is deprecated. Please use tf.math.erf instead.\n",
      "\n",
      "W0831 11:46:20.560204 140735788598144 lazy_loader.py:50] \n",
      "The TensorFlow contrib module will not be included in TensorFlow 2.0.\n",
      "For more information, please see:\n",
      "  * https://github.com/tensorflow/community/blob/master/rfcs/20180907-contrib-sunset.md\n",
      "  * https://github.com/tensorflow/addons\n",
      "  * https://github.com/tensorflow/io (for I/O related ops)\n",
      "If you depend on functionality not listed there, please file an issue.\n",
      "\n",
      "W0831 11:46:20.562992 140735788598144 deprecation_wrapper.py:119] From /Users/ieee8023/Library/Python/3.7/lib/python/site-packages/onnx_tf/handlers/backend/is_nan.py:9: The name tf.is_nan is deprecated. Please use tf.math.is_nan instead.\n",
      "\n",
      "W0831 11:46:20.565275 140735788598144 deprecation_wrapper.py:119] From /Users/ieee8023/Library/Python/3.7/lib/python/site-packages/onnx_tf/handlers/backend/log.py:10: The name tf.log is deprecated. Please use tf.math.log instead.\n",
      "\n",
      "W0831 11:46:20.587414 140735788598144 deprecation_wrapper.py:119] From /Users/ieee8023/Library/Python/3.7/lib/python/site-packages/onnx_tf/handlers/backend/upsample.py:13: The name tf.image.resize_images is deprecated. Please use tf.image.resize instead.\n",
      "\n",
      "/Users/ieee8023/Library/Python/3.7/lib/python/site-packages/onnx_tf/common/handler_helper.py:37: UserWarning: Unknown op ConstantFill in domain `ai.onnx`.\n",
      "  handler.ONNX_OP, handler.DOMAIN or \"ai.onnx\"))\n",
      "/Users/ieee8023/Library/Python/3.7/lib/python/site-packages/onnx_tf/common/handler_helper.py:37: UserWarning: Unknown op ImageScaler in domain `ai.onnx`.\n",
      "  handler.ONNX_OP, handler.DOMAIN or \"ai.onnx\"))\n",
      "/Users/ieee8023/Library/Python/3.7/lib/python/site-packages/onnx_tf/common/handler_helper.py:34: UserWarning: Fail to get since_version of IsInf in domain `` with max_inclusive_version=9. Set to 1.\n",
      "  handler.ONNX_OP, handler.DOMAIN, version))\n",
      "/Users/ieee8023/Library/Python/3.7/lib/python/site-packages/onnx_tf/common/handler_helper.py:34: UserWarning: Fail to get since_version of Mod in domain `` with max_inclusive_version=9. Set to 1.\n",
      "  handler.ONNX_OP, handler.DOMAIN, version))\n",
      "/Users/ieee8023/Library/Python/3.7/lib/python/site-packages/onnx_tf/common/handler_helper.py:34: UserWarning: Fail to get since_version of ThresholdedRelu in domain `` with max_inclusive_version=9. Set to 1.\n",
      "  handler.ONNX_OP, handler.DOMAIN, version))\n",
      "W0831 11:46:31.835960 140735788598144 deprecation.py:323] From /Users/ieee8023/Library/Python/3.7/lib/python/site-packages/onnx_tf/handlers/backend/reshape.py:26: add_dispatch_support.<locals>.wrapper (from tensorflow.python.ops.array_ops) is deprecated and will be removed in a future version.\n",
      "Instructions for updating:\n",
      "Use tf.where in 2.0, which has the same broadcast rule as np.where\n",
      "W0831 11:46:31.841145 140735788598144 deprecation.py:323] From /Users/ieee8023/Library/Python/3.7/lib/python/site-packages/onnx_tf/handlers/backend/reshape.py:31: sparse_to_dense (from tensorflow.python.ops.sparse_ops) is deprecated and will be removed in a future version.\n",
      "Instructions for updating:\n",
      "Create a `tf.sparse.SparseTensor` and use `tf.sparse.to_dense` instead.\n",
      "W0831 11:46:31.860841 140735788598144 deprecation.py:323] From /Users/ieee8023/Library/Python/3.7/lib/python/site-packages/onnx_tf/handlers/backend/gemm.py:14: flatten (from tensorflow.python.layers.core) is deprecated and will be removed in a future version.\n",
      "Instructions for updating:\n",
      "Use keras.layers.flatten instead.\n"
     ]
    }
   ],
   "source": [
    "import webdl_utils\n",
    "webdl_utils.convert_onnx2tf_pb(onnx_file=\"chest.onnx\", pb_file=\"chest.pb\")"
   ]
  },
  {
   "cell_type": "code",
   "execution_count": 3,
   "metadata": {},
   "outputs": [],
   "source": [
    "!rm -rf chest-savedmodel"
   ]
  },
  {
   "cell_type": "code",
   "execution_count": 4,
   "metadata": {},
   "outputs": [
    {
     "name": "stderr",
     "output_type": "stream",
     "text": [
      "W0831 12:10:15.092728 140735788598144 deprecation_wrapper.py:119] From /Users/ieee8023/git/dl-web-xray/scripts/webdl_utils.py:32: The name tf.gfile.GFile is deprecated. Please use tf.io.gfile.GFile instead.\n",
      "\n",
      "W0831 12:10:15.094321 140735788598144 deprecation_wrapper.py:119] From /Users/ieee8023/git/dl-web-xray/scripts/webdl_utils.py:33: The name tf.GraphDef is deprecated. Please use tf.compat.v1.GraphDef instead.\n",
      "\n",
      "W0831 12:10:15.194976 140735788598144 deprecation_wrapper.py:119] From /Users/ieee8023/git/dl-web-xray/scripts/webdl_utils.py:38: The name tf.Session is deprecated. Please use tf.compat.v1.Session instead.\n",
      "\n"
     ]
    },
    {
     "name": "stdout",
     "output_type": "stream",
     "text": [
      "tensorflow 1.14.0\n"
     ]
    },
    {
     "name": "stderr",
     "output_type": "stream",
     "text": [
      "W0831 12:10:16.036368 140735788598144 deprecation_wrapper.py:119] From /Users/ieee8023/git/dl-web-xray/scripts/webdl_utils.py:41: The name tf.get_default_graph is deprecated. Please use tf.compat.v1.get_default_graph instead.\n",
      "\n",
      "W0831 12:10:16.141337 140735788598144 deprecation_wrapper.py:119] From /Users/ieee8023/git/dl-web-xray/scripts/webdl_utils.py:58: The name tf.saved_model.signature_def_utils.predict_signature_def is deprecated. Please use tf.compat.v1.saved_model.signature_def_utils.predict_signature_def instead.\n",
      "\n",
      "W0831 12:10:16.143178 140735788598144 deprecation.py:323] From /Users/ieee8023/Library/Python/3.7/lib/python/site-packages/tensorflow/python/saved_model/signature_def_utils_impl.py:201: build_tensor_info (from tensorflow.python.saved_model.utils_impl) is deprecated and will be removed in a future version.\n",
      "Instructions for updating:\n",
      "This function will only be available through the v1 compatibility library as tf.compat.v1.saved_model.utils.build_tensor_info or tf.compat.v1.saved_model.build_tensor_info.\n"
     ]
    },
    {
     "name": "stdout",
     "output_type": "stream",
     "text": [
      "Possible inputs: [('input.1', 'Placeholder')]\n",
      "Selecting first element in list: input.1:0\n",
      "Possible outputs: [('Sigmoid', 'Sigmoid')]\n",
      "Selecting first element in list: Sigmoid:0\n"
     ]
    }
   ],
   "source": [
    "import webdl_utils\n",
    "webdl_utils.convert_tf_pb2savedmodel(pb_file=\"chest.pb\", savedmodel_folder=\"chest-savedmodel\")"
   ]
  },
  {
   "cell_type": "code",
   "execution_count": null,
   "metadata": {},
   "outputs": [],
   "source": []
  },
  {
   "cell_type": "code",
   "execution_count": 5,
   "metadata": {},
   "outputs": [
    {
     "name": "stdout",
     "output_type": "stream",
     "text": [
      "2019-08-31 12:16:25.855335: I tensorflow/core/platform/cpu_feature_guard.cc:142] Your CPU supports instructions that this TensorFlow binary was not compiled to use: AVX2 FMA\n",
      "2019-08-31 12:16:28.672377: I tensorflow/core/grappler/devices.cc:60] Number of eligible GPUs (core count >= 8, compute capability >= 0.0): 0 (Note: TensorFlow was not compiled with CUDA support)\n",
      "2019-08-31 12:16:28.672469: I tensorflow/core/grappler/clusters/single_machine.cc:359] Starting new session\n",
      "2019-08-31 12:16:28.894929: I tensorflow/core/grappler/optimizers/meta_optimizer.cc:716] Optimization results for grappler item: graph_to_optimize\n",
      "2019-08-31 12:16:28.894957: I tensorflow/core/grappler/optimizers/meta_optimizer.cc:718]   function_optimizer: function_optimizer did nothing. time = 0.003ms.\n",
      "2019-08-31 12:16:28.894963: I tensorflow/core/grappler/optimizers/meta_optimizer.cc:718]   function_optimizer: function_optimizer did nothing. time = 0ms.\n",
      "2019-08-31 12:16:34.494370: I tensorflow/core/grappler/optimizers/meta_optimizer.cc:716] Optimization results for grappler item: graph_to_optimize\n",
      "2019-08-31 12:16:34.494396: I tensorflow/core/grappler/optimizers/meta_optimizer.cc:718]   debug_stripper: debug_stripper did nothing. time = 2.23ms.\n",
      "2019-08-31 12:16:34.494402: I tensorflow/core/grappler/optimizers/meta_optimizer.cc:718]   model_pruner: Graph size after: 4402 nodes (-124), 5059 edges (-124), time = 85.175ms.\n",
      "2019-08-31 12:16:34.494406: I tensorflow/core/grappler/optimizers/meta_optimizer.cc:718]   constant folding: Graph size after: 1966 nodes (-2436), 2500 edges (-2559), time = 535.841ms.\n",
      "2019-08-31 12:16:34.494410: I tensorflow/core/grappler/optimizers/meta_optimizer.cc:718]   arithmetic_optimizer: Graph size after: 1423 nodes (-543), 2500 edges (0), time = 145.858ms.\n",
      "2019-08-31 12:16:34.494415: I tensorflow/core/grappler/optimizers/meta_optimizer.cc:718]   dependency_optimizer: Graph size after: 1225 nodes (-198), 2116 edges (-384), time = 39.931ms.\n",
      "2019-08-31 12:16:34.494481: I tensorflow/core/grappler/optimizers/meta_optimizer.cc:718]   model_pruner: Graph size after: 1225 nodes (0), 2116 edges (0), time = 23.07ms.\n",
      "2019-08-31 12:16:34.494487: I tensorflow/core/grappler/optimizers/meta_optimizer.cc:718]   remapper: Graph size after: 1225 nodes (0), 2116 edges (0), time = 41.574ms.\n",
      "2019-08-31 12:16:34.494491: I tensorflow/core/grappler/optimizers/meta_optimizer.cc:718]   constant folding: Graph size after: 1225 nodes (0), 2116 edges (0), time = 128.003ms.\n",
      "2019-08-31 12:16:34.494495: I tensorflow/core/grappler/optimizers/meta_optimizer.cc:718]   arithmetic_optimizer: Graph size after: 1225 nodes (0), 2116 edges (0), time = 94.123ms.\n",
      "2019-08-31 12:16:34.494499: I tensorflow/core/grappler/optimizers/meta_optimizer.cc:718]   dependency_optimizer: Graph size after: 1225 nodes (0), 2116 edges (0), time = 32.026ms.\n",
      "2019-08-31 12:16:34.494503: I tensorflow/core/grappler/optimizers/meta_optimizer.cc:718]   debug_stripper: debug_stripper did nothing. time = 3.168ms.\n",
      "2019-08-31 12:16:34.494719: I tensorflow/core/grappler/optimizers/meta_optimizer.cc:718]   model_pruner: Graph size after: 1225 nodes (0), 2116 edges (0), time = 18.256ms.\n",
      "2019-08-31 12:16:34.494725: I tensorflow/core/grappler/optimizers/meta_optimizer.cc:718]   constant folding: Graph size after: 1225 nodes (0), 2116 edges (0), time = 146.702ms.\n",
      "2019-08-31 12:16:34.494729: I tensorflow/core/grappler/optimizers/meta_optimizer.cc:718]   arithmetic_optimizer: Graph size after: 1225 nodes (0), 2116 edges (0), time = 118.551ms.\n",
      "2019-08-31 12:16:34.494733: I tensorflow/core/grappler/optimizers/meta_optimizer.cc:718]   dependency_optimizer: Graph size after: 1225 nodes (0), 2116 edges (0), time = 33.344ms.\n",
      "2019-08-31 12:16:34.494737: I tensorflow/core/grappler/optimizers/meta_optimizer.cc:718]   model_pruner: Graph size after: 1225 nodes (0), 2116 edges (0), time = 22.709ms.\n",
      "2019-08-31 12:16:34.494741: I tensorflow/core/grappler/optimizers/meta_optimizer.cc:718]   remapper: Graph size after: 1225 nodes (0), 2116 edges (0), time = 41.89ms.\n",
      "2019-08-31 12:16:34.494886: I tensorflow/core/grappler/optimizers/meta_optimizer.cc:718]   constant folding: Graph size after: 1225 nodes (0), 2116 edges (0), time = 128.876ms.\n",
      "2019-08-31 12:16:34.494891: I tensorflow/core/grappler/optimizers/meta_optimizer.cc:718]   arithmetic_optimizer: Graph size after: 1225 nodes (0), 2116 edges (0), time = 100.724ms.\n",
      "2019-08-31 12:16:34.494895: I tensorflow/core/grappler/optimizers/meta_optimizer.cc:718]   dependency_optimizer: Graph size after: 1225 nodes (0), 2116 edges (0), time = 31.466ms.\n",
      "Writing weight file chestxnet-45rot15trans15scale/model.json...\n"
     ]
    }
   ],
   "source": [
    "!tensorflowjs_converter \\\n",
    "    --input_format=tf_saved_model \\\n",
    "    --quantization_bytes 2 \\\n",
    "    chest-savedmodel \\\n",
    "    chestxnet-45rot15trans15scale"
   ]
  },
  {
   "cell_type": "code",
   "execution_count": null,
   "metadata": {},
   "outputs": [],
   "source": []
  },
  {
   "cell_type": "code",
   "execution_count": null,
   "metadata": {},
   "outputs": [],
   "source": []
  },
  {
   "cell_type": "code",
   "execution_count": null,
   "metadata": {},
   "outputs": [],
   "source": []
  },
  {
   "cell_type": "code",
   "execution_count": null,
   "metadata": {},
   "outputs": [],
   "source": []
  },
  {
   "cell_type": "code",
   "execution_count": null,
   "metadata": {},
   "outputs": [],
   "source": []
  },
  {
   "cell_type": "code",
   "execution_count": null,
   "metadata": {},
   "outputs": [],
   "source": []
  },
  {
   "cell_type": "code",
   "execution_count": null,
   "metadata": {},
   "outputs": [],
   "source": []
  },
  {
   "cell_type": "code",
   "execution_count": null,
   "metadata": {},
   "outputs": [],
   "source": []
  }
 ],
 "metadata": {
  "kernelspec": {
   "display_name": "Python 3",
   "language": "python",
   "name": "python3"
  },
  "language_info": {
   "codemirror_mode": {
    "name": "ipython",
    "version": 3
   },
   "file_extension": ".py",
   "mimetype": "text/x-python",
   "name": "python",
   "nbconvert_exporter": "python",
   "pygments_lexer": "ipython3",
   "version": "3.7.3"
  }
 },
 "nbformat": 4,
 "nbformat_minor": 2
}
